{
  "nbformat": 4,
  "nbformat_minor": 0,
  "metadata": {
    "colab": {
      "provenance": [],
      "authorship_tag": "ABX9TyM7DnrQX3UdpHkW6tStGm56",
      "include_colab_link": true
    },
    "kernelspec": {
      "name": "python3",
      "display_name": "Python 3"
    },
    "language_info": {
      "name": "python"
    }
  },
  "cells": [
    {
      "cell_type": "markdown",
      "metadata": {
        "id": "view-in-github",
        "colab_type": "text"
      },
      "source": [
        "<a href=\"https://colab.research.google.com/github/kinaya18/Hands-on-Machine-Learning-with-Scikit-Learn-Keras-TensorFlow/blob/main/The%20Fundamentals%20of%20Machine%20Learning/Chapter_1.ipynb\" target=\"_parent\"><img src=\"https://colab.research.google.com/assets/colab-badge.svg\" alt=\"Open In Colab\"/></a>"
      ]
    },
    {
      "cell_type": "markdown",
      "source": [
        "# **Chapter 1: The Machine Learning Landscape**"
      ],
      "metadata": {
        "id": "lyR7C9rPU9rR"
      }
    },
    {
      "cell_type": "markdown",
      "source": [
        "**Apa Itu Machine Learning?**"
      ],
      "metadata": {
        "id": "YtE68Ss_VL_f"
      }
    },
    {
      "cell_type": "markdown",
      "source": [
        "Machine Learning adalah seni dan ilmu membuat komputer belajar dari data tanpa diprogram secara eksplisit.\n",
        "\n",
        "\n",
        "*   Arthur Samuel (1959): ML adalah bidang studi yang memberi komputer kemampuan untuk belajar tanpa diprogram secara eksplisit.\n",
        "*   Tom Mitchell (1997): Suatu program dikatakan belajar dari pengalaman E terhadap tugas T dan ukuran kinerja P jika kinerjanya terhadap T meningkat seiring bertambahnya E.\n",
        "\n",
        "Machine Learning (ML) membuat program bisa belajar dari pengalaman. Misalnya, sebuah program spam filter bisa belajar dari email-email yang sudah ditandai sebagai spam dan bukan spam oleh pengguna. Semakin banyak contoh, semakin akurat prediksinya.\n",
        "\n",
        "ML berguna ketika aturan terlalu kompleks untuk diprogram manual, data sangat besar, atau lingkungan berubah dengan cepat."
      ],
      "metadata": {
        "id": "GsjipHhgVS4x"
      }
    },
    {
      "cell_type": "markdown",
      "source": [
        "**Mengapa Menggunakan Machine Learning?\n",
        "ML berguna ketika :**\n",
        "- Aturan terlalu kompleks untuk diprogram manual\n",
        "- Lingkungan berubah cepat (misal: spam baru terus muncul)\n",
        "- Data besar & kompleks, dan kita ingin menggali pola dari data"
      ],
      "metadata": {
        "id": "3EXfkheCbeqa"
      }
    },
    {
      "cell_type": "markdown",
      "source": [
        "**Jenis-Jenis Machine Learning**\n",
        "\n",
        "\n",
        "1.   Supervised Learning :\n",
        "\n",
        "  Model dilatih dengan data yang memiliki label. Contohnya: klasifikasi email sebagai spam atau bukan. Algoritma : Linear Regression, Decision Tree, Neural Networks, dll.\n",
        "  \n",
        "2.   Unsupervised Learning :\n",
        "\n",
        "  Data tidak memiliki label. Model harus menemukan pola sendiri, seperti pengelompokan pelanggan dengan K-Means. Contoh: clustering pelanggan, reduksi dimensi (PCA). Algoritma: K-Means, DBSCAN, PCA, t-SNE\n",
        "\n",
        "3. Semisupervised Learning :\n",
        "\n",
        "  Kombinasi data berlabel dan tidak berlabel. Berguna saat pelabelan data mahal atau sulit. Contoh: Google Photos (clustering wajah, kemudian diberi nama oleh user)\n",
        "4. Reinforcement Learning :\n",
        "\n",
        "  Agen belajar melalui percobaan, mendapatkan reward atau penalti. Contoh: AI bermain catur atau mengontrol robot.\n",
        "\n"
      ],
      "metadata": {
        "id": "gYH_or2nWNKY"
      }
    },
    {
      "cell_type": "markdown",
      "source": [
        "**Cara Model Belajar**\n",
        "\n",
        "\n",
        "*   Batch Learning : Model dilatih sekaligus dengan seluruh data dan tidak berubah setelah itu. Batch learning belajar dari semua data sekaligus (offline)dan harus dilatih ulang untuk data baru.\n",
        "*   Online Learning :\n",
        "Model dilatih secara bertahap dari data baru. Berguna untuk data stream atau sistem adaptif. Cocok untuk data streaming (misal: stock prediction)\n",
        "\n"
      ],
      "metadata": {
        "id": "_b_Drw0KXHKi"
      }
    },
    {
      "cell_type": "markdown",
      "source": [
        "**Instance-Based vs Model-Based Learning**\n",
        "- Instance-based : Membandingkan data baru dengan data yang pernah dilihat (contoh: KNN).\n",
        "- Model-based : Mempelajari hubungan umum dari data dan membuat model (contoh: Linear Regression)."
      ],
      "metadata": {
        "id": "GWEVN65UXlpa"
      }
    },
    {
      "cell_type": "markdown",
      "source": [
        "**Tantangan dalam ML**\n",
        "- **Data tidak cukup atau berkualitas buruk** : Jumlah data yang kecil bisa membuat model sulit mengenali pola. Data yang tidak bersih (berisi noise, nilai hilang, duplikat) juga membuat model tidak akurat. Solusinya adalah mengumpulkan data lebih banyak, melakukan _data cleaning_, dan menggunakan teknik seperti augmentasi data.\n",
        "\n",
        "- **Overfitting** : Model terlalu cocok dengan data pelatihan hingga tidak bisa generalisasi ke data baru. Solusinya antara lain menggunakan regularisasi (seperti L1/L2), dropout, mengurangi kompleksitas model, dan memperbanyak data.\n",
        "\n",
        "- **Underfitting** : Model terlalu sederhana sehingga gagal menangkap pola dari data. Ini bisa diatasi dengan menggunakan model yang lebih kompleks, menambahkan fitur relevan, atau melatih lebih lama.\n",
        "\n",
        "- **Mismatch data antara pelatihan dan realita** : Jika distribusi data pelatihan tidak sama dengan data nyata (misalnya pelatihan dari negara A, tapi digunakan di negara B), hasilnya bisa buruk. Untuk itu, kita perlu _cross-validation_, domain adaptation, atau mengumpulkan data yang representatif."
      ],
      "metadata": {
        "id": "5pgB4zNiX2kA"
      }
    },
    {
      "cell_type": "markdown",
      "source": [
        "**Workflow Proyek Machine Learning**\n",
        "1. **Memahami masalah** : Kita harus tahu tujuan bisnis atau teknis yang ingin diselesaikan. Misalnya: \"Apakah kita ingin memprediksi churn pelanggan atau mendeteksi penipuan?\" Tanpa pemahaman masalah yang jelas, solusi ML bisa salah arah.\n",
        "\n",
        "2. **Mengumpulkan data** : Kita harus mencari data yang relevan dan representatif. Sumber data bisa dari internal perusahaan, open data, scraping, atau API. Penting juga memastikan datanya legal untuk digunakan.\n",
        "\n",
        "3. **Menyiapkan data** : Ini mencakup pembersihan data (menghapus nilai kosong, duplikat), transformasi (scaling, encoding), dan pembagian data (train/test split). Kualitas data di sini sangat berpengaruh pada hasil akhir.\n",
        "\n",
        "4. **Memilih dan melatih model** : Berdasarkan jenis tugas (klasifikasi, regresi, clustering), kita pilih model yang cocok (misalnya Logistic Regression, Random Forest, atau Neural Network), lalu latih model menggunakan data.\n",
        "\n",
        "5. **Evaluasi dan tuning** : Model dievaluasi menggunakan metrik seperti akurasi, RMSE, F1-score, dsb. Kemudian dilakukan hyperparameter tuning (GridSearch, RandomizedSearch) untuk meningkatkan performa.\n",
        "\n",
        "6. **Deployment ke produksi** : Model yang sudah bagus di-deploy ke sistem nyata, diintegrasikan ke dalam aplikasi atau API. Perlu juga monitoring agar bisa mendeteksi penurunan performa akibat perubahan data (data drift)."
      ],
      "metadata": {
        "id": "eFbK1gkgX9Fw"
      }
    },
    {
      "cell_type": "markdown",
      "source": [
        "**Contoh Aplikasi ML**\n",
        "- Deteksi penipuan kartu kredit\n",
        "- Prediksi pendapatan\n",
        "- Sistem rekomendasi\n",
        "- Pengelompokan pelanggan\n",
        "- Chatbot dan NLP"
      ],
      "metadata": {
        "id": "chWztJVUYAla"
      }
    },
    {
      "cell_type": "markdown",
      "source": [
        "**Studi Kasus: Prediksi Life Satisfaction Berdasarkan GDP**\n",
        "Kita akan membandingkan dua pendekatan: Linear Regression dan K-Nearest Neighbors (KNN). Tujuannya adalah memprediksi tingkat kepuasan hidup sebuah negara berdasarkan GDP per kapita-nya."
      ],
      "metadata": {
        "id": "iTPNf9z1YGwR"
      }
    },
    {
      "cell_type": "code",
      "execution_count": null,
      "metadata": {
        "id": "aOsd3a3CR4Gy"
      },
      "outputs": [],
      "source": [
        "### Bagian 1 - Import Library\n",
        "import matplotlib.pyplot as plt\n",
        "import numpy as np\n",
        "import pandas as pd\n",
        "import sklearn.linear_model\n",
        "from sklearn.neighbors import KNeighborsRegressor"
      ]
    },
    {
      "cell_type": "code",
      "source": [
        "### Bagian 2 - Load dan Persiapan Data\n",
        "# Simulasi data\n",
        "data = {\n",
        "    \"Country\": [\"Korea\", \"France\", \"Australia\", \"United States\", \"Germany\", \"Sweden\", \"Japan\", \"United Kingdom\", \"Italy\", \"Cyprus\"],\n",
        "    \"GDP per capita\": [20496, 37675, 42038, 55805, 40996, 49866, 32485, 43770, 29866, 22587],\n",
        "    \"Life satisfaction\": [5.8, 6.5, 7.3, 7.2, 6.7, 7.2, 5.9, 6.8, 6.0, 6.2]\n",
        "}\n",
        "df = pd.DataFrame(data)\n",
        "X = np.c_[df[\"GDP per capita\"]]\n",
        "y = np.c_[df[\"Life satisfaction\"]]"
      ],
      "metadata": {
        "id": "ucs0iTLVZU2C"
      },
      "execution_count": null,
      "outputs": []
    },
    {
      "cell_type": "code",
      "source": [
        "### Bagian 3 - Visualisasi\n",
        "plt.scatter(df[\"GDP per capita\"], df[\"Life satisfaction\"])\n",
        "plt.xlabel(\"GDP per Capita\")\n",
        "plt.ylabel(\"Life Satisfaction\")\n",
        "plt.title(\"GDP vs Life Satisfaction\")\n",
        "plt.grid(True)\n",
        "plt.show()"
      ],
      "metadata": {
        "colab": {
          "base_uri": "https://localhost:8080/",
          "height": 472
        },
        "id": "zYNDWKTUZYBZ",
        "outputId": "a14a1b9e-df62-4262-f581-4f642117b8bf"
      },
      "execution_count": null,
      "outputs": [
        {
          "output_type": "display_data",
          "data": {
            "text/plain": [
              "<Figure size 640x480 with 1 Axes>"
            ],
            "image/png": "[encoded data removed]"
          },
          "metadata": {}
        }
      ]
    },
    {
      "cell_type": "code",
      "source": [
        "### Bagian 4 - Model Linear Regression\n",
        "lin_model = sklearn.linear_model.LinearRegression()\n",
        "lin_model.fit(X, y)\n",
        "\n",
        "gdp_test = [[22587]]  # GDP per capita Cyprus\n",
        "prediction_lin = lin_model.predict(gdp_test)\n",
        "print(\"Linear Regression Prediction:\", prediction_lin[0][0])"
      ],
      "metadata": {
        "colab": {
          "base_uri": "https://localhost:8080/"
        },
        "id": "WqZVvEqkZsiC",
        "outputId": "a5a7f37a-42f3-4a2f-b32b-0912031e1a16"
      },
      "execution_count": null,
      "outputs": [
        {
          "output_type": "stream",
          "name": "stdout",
          "text": [
            "Linear Regression Prediction: 5.900940270207974\n"
          ]
        }
      ]
    },
    {
      "cell_type": "code",
      "source": [
        "### Bagian 5 - Model KNN Regressor\n",
        "knn_model = KNeighborsRegressor(n_neighbors=3)\n",
        "knn_model.fit(X, y)\n",
        "prediction_knn = knn_model.predict(gdp_test)\n",
        "print(\"KNN Regression Prediction:\", prediction_knn[0][0])"
      ],
      "metadata": {
        "colab": {
          "base_uri": "https://localhost:8080/"
        },
        "id": "9YlnfXQuZwFx",
        "outputId": "3039d916-f4bc-4efa-aec3-cae20e657c1f"
      },
      "execution_count": null,
      "outputs": [
        {
          "output_type": "stream",
          "name": "stdout",
          "text": [
            "KNN Regression Prediction: 6.0\n"
          ]
        }
      ]
    },
    {
      "cell_type": "markdown",
      "source": [
        "**Penjelasan Model**\n",
        "\n",
        "Linear Regression membuat garis lurus terbaik yang mendekati data. KNN bekerja dengan melihat 3 negara dengan GDP terdekat, lalu menghitung rata-rata nilai kepuasan hidup mereka."
      ],
      "metadata": {
        "id": "naFk8eH6bCl6"
      }
    }
  ]
}